{
  "nbformat": 4,
  "nbformat_minor": 0,
  "metadata": {
    "colab": {
      "provenance": []
    },
    "kernelspec": {
      "name": "python3",
      "display_name": "Python 3"
    },
    "language_info": {
      "name": "python"
    }
  },
  "cells": [
    {
      "cell_type": "code",
      "execution_count": null,
      "metadata": {
        "id": "jKIXhyZalu3M"
      },
      "outputs": [],
      "source": []
    },
    {
      "cell_type": "code",
      "metadata": {
        "colab": {
          "base_uri": "https://localhost:8080/"
        },
        "id": "ca23d493",
        "outputId": "744bd143-d591-4a4a-b45e-ce9b3c20da05"
      },
      "source": [
        "def sort_dict_list_ai(dict_list, key):\n",
        "  \"\"\"\n",
        "  Sorts a list of dictionaries by a specific key using a lambda function and sorted().\n",
        "\n",
        "  Args:\n",
        "    dict_list: The list of dictionaries to sort.\n",
        "    key: The key to sort by.\n",
        "\n",
        "  Returns:\n",
        "    A new list of dictionaries sorted by the specified key.\n",
        "  \"\"\"\n",
        "  return sorted(dict_list, key=lambda x: x[key])\n",
        "\n",
        "# Example usage:\n",
        "my_list = [{'name': 'Alice', 'age': 30}, {'name': 'Bob', 'age': 25}, {'name': 'Charlie', 'age': 35}]\n",
        "sorted_list_ai = sort_dict_list_ai(my_list, 'age')\n",
        "print(\"AI-generated sorted list:\", sorted_list_ai)"
      ],
      "execution_count": 4,
      "outputs": [
        {
          "output_type": "stream",
          "name": "stdout",
          "text": [
            "AI-generated sorted list: [{'name': 'Bob', 'age': 25}, {'name': 'Alice', 'age': 30}, {'name': 'Charlie', 'age': 35}]\n"
          ]
        }
      ]
    },
    {
      "cell_type": "code",
      "metadata": {
        "colab": {
          "base_uri": "https://localhost:8080/"
        },
        "id": "0858ea9a",
        "outputId": "f7514c12-772b-4273-866e-4dc660cd9d88"
      },
      "source": [
        "import timeit\n",
        "\n",
        "# Create a larger list for testing\n",
        "large_list = [{'name': f'Name{i}', 'age': i} for i in range(1000)]\n",
        "\n",
        "# Time the manual sort\n",
        "manual_time = timeit.timeit(lambda: sort_dict_list_manual(large_list, 'age'), number=100)\n",
        "print(f\"Manual sort time: {manual_time:.6f} seconds\")\n",
        "\n",
        "# Time the AI-generated sort (using sorted)\n",
        "ai_time = timeit.timeit(lambda: sort_dict_list_ai(large_list, 'age'), number=100)\n",
        "print(f\"AI-generated sort time: {ai_time:.6f} seconds\")"
      ],
      "execution_count": 5,
      "outputs": [
        {
          "output_type": "stream",
          "name": "stdout",
          "text": [
            "Manual sort time: 5.061610 seconds\n",
            "AI-generated sort time: 0.007967 seconds\n"
          ]
        }
      ]
    },
    {
      "cell_type": "markdown",
      "metadata": {
        "id": "f4a8abbb"
      },
      "source": [
        "**Task**: Use an AI code completion tool (e.g., GitHub Copilot, Tabnine) to generate a Python function that sorts a list of dictionaries by a specified key.\n",
        "\n",
        "Paste the AI-generated code in the code cell below."
      ]
    },
    {
      "cell_type": "code",
      "metadata": {
        "colab": {
          "base_uri": "https://localhost:8080/"
        },
        "id": "388a4489",
        "outputId": "3f432acf-b484-43ce-9919-dd573c7ad618"
      },
      "source": [
        "def sort_dict_list_manual(dict_list, key):\n",
        "  \"\"\"\n",
        "  Sorts a list of dictionaries by a specific key manually.\n",
        "\n",
        "  Args:\n",
        "    dict_list: The list of dictionaries to sort.\n",
        "    key: The key to sort by.\n",
        "\n",
        "  Returns:\n",
        "    A new list of dictionaries sorted by the specified key.\n",
        "  \"\"\"\n",
        "  # Create a copy to avoid modifying the original list\n",
        "  sorted_list = dict_list[:]\n",
        "  n = len(sorted_list)\n",
        "  # Bubble sort implementation for demonstration\n",
        "  for i in range(n):\n",
        "    for j in range(0, n - i - 1):\n",
        "      if sorted_list[j][key] > sorted_list[j + 1][key]:\n",
        "        sorted_list[j], sorted_list[j + 1] = sorted_list[j + 1], sorted_list[j]\n",
        "  return sorted_list\n",
        "\n",
        "# Example usage:\n",
        "my_list = [{'name': 'Alice', 'age': 30}, {'name': 'Bob', 'age': 25}, {'name': 'Charlie', 'age': 35}]\n",
        "sorted_list_manual = sort_dict_list_manual(my_list, 'age')\n",
        "print(\"Manually sorted list:\", sorted_list_manual)"
      ],
      "execution_count": 1,
      "outputs": [
        {
          "output_type": "stream",
          "name": "stdout",
          "text": [
            "Manually sorted list: [{'name': 'Bob', 'age': 25}, {'name': 'Alice', 'age': 30}, {'name': 'Charlie', 'age': 35}]\n"
          ]
        }
      ]
    },
    {
      "cell_type": "markdown",
      "source": [
        "The \"AI-generated\" sort is faster because it uses Python's built-in sorted() function. The sorted() function is highly optimized and implemented in C, making it significantly more efficient than the manual bubble sort implementation, especially for larger lists. The manual bubble sort has a time complexity of O(n^2), meaning the execution time grows quadratically with the size of the input list, while the sorted() function typically uses Timsort, which has a time complexity of O(n log n), making it much faster for larger datasets.\n",
        "\n"
      ],
      "metadata": {
        "id": "bbDN3JdxpGPU"
      }
    }
  ]
}